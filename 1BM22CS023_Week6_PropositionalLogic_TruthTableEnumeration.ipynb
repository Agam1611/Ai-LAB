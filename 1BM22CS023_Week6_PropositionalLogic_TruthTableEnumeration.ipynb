{
  "nbformat": 4,
  "nbformat_minor": 0,
  "metadata": {
    "colab": {
      "provenance": []
    },
    "kernelspec": {
      "name": "python3",
      "display_name": "Python 3"
    },
    "language_info": {
      "name": "python"
    }
  },
  "cells": [
    {
      "cell_type": "code",
      "execution_count": 10,
      "metadata": {
        "colab": {
          "base_uri": "https://localhost:8080/"
        },
        "id": "dxp6NpRZpcIl",
        "outputId": "b1020567-bc51-423e-bdc5-65e8741f7fca"
      },
      "outputs": [
        {
          "output_type": "stream",
          "name": "stdout",
          "text": [
            "Create Knowledge Base (KB) Using Prepositional Logic and Show the Given Query Entails KB \n",
            "\n",
            "Name : Agam Tiwari\n",
            "USN : 1BM22CS023\n",
            "\n",
            "Knowledge Base (KB):\n",
            "(Implies(q, p)) & (q | r) & (Implies(p, ~q))\n",
            "\n",
            "Query 1:\n",
            "r\n",
            "\n",
            "Query 2:\n",
            "Implies(r, p)\n",
            "\n",
            "Query 3:\n",
            "Implies(q, r)\n",
            "\n",
            "Results:\n",
            "The KB entails Query 1\n",
            "The KB does not entail Query 2\n",
            "The KB entails Query 3\n"
          ]
        }
      ],
      "source": [
        "from sympy.logic.boolalg import And, Or, Not, Implies\n",
        "from sympy.abc import p, q, r\n",
        "from sympy.logic import satisfiable\n",
        "print(\"Create Knowledge Base (KB) Using Prepositional Logic and Show the Given Query Entails KB \\n\")\n",
        "print(\"Name : Agam Tiwari\")\n",
        "print(\"USN : 1BM22CS023\\n\")\n",
        "\n",
        "# Step 1: Define propositions (for example p, q, r)\n",
        "\n",
        "# Step 2: Define the Knowledge Base (KB)\n",
        "KB = And(\n",
        "    Implies(q, p),  # If I take an umbrella (q), then it is raining (p)\n",
        "    Implies(p, Not(q)),  # If it is raining (p), I will not take an umbrella (¬q)\n",
        "    Or(q, r)  # If I take an umbrella (q), or I will get wet (r)\n",
        ")\n",
        "\n",
        "# Print KB\n",
        "print(\"Knowledge Base (KB):\")\n",
        "print(KB)\n",
        "print()\n",
        "\n",
        "# Step 3: Define the Queries\n",
        "query1 = r  # Will I get wet?\n",
        "query2 = Implies(r, p)  # If I get wet (r), does it imply that it is raining (p)?\n",
        "query3 = Implies(q, r)  # If I take an umbrella (q), does it imply I will get wet (r)?\n",
        "\n",
        "# Print queries\n",
        "print(\"Query 1:\")\n",
        "print(query1)\n",
        "print()\n",
        "\n",
        "print(\"Query 2:\")\n",
        "print(query2)\n",
        "print()\n",
        "\n",
        "print(\"Query 3:\")\n",
        "print(query3)\n",
        "print()\n",
        "\n",
        "# Step 4: Entailment Check for each query\n",
        "def check_entailment(KB, query):\n",
        "    # Check if the KB entails the query, i.e., if KB → query is a tautology\n",
        "    result = satisfiable(And(KB, Not(query))) == False\n",
        "    return result\n",
        "\n",
        "# Check entailment for each query\n",
        "entailment1 = check_entailment(KB, query1)\n",
        "entailment2 = check_entailment(KB, query2)\n",
        "entailment3 = check_entailment(KB, query3)\n",
        "\n",
        "# Step 5: Display the results\n",
        "print(\"Results:\")\n",
        "if entailment1:\n",
        "    print(\"The KB entails Query 1\")\n",
        "else:\n",
        "    print(\"The KB does not entail Query 1\")\n",
        "\n",
        "if entailment2:\n",
        "    print(\"The KB entails Query 2\")\n",
        "else:\n",
        "    print(\"The KB does not entail Query 2\")\n",
        "\n",
        "if entailment3:\n",
        "    print(\"The KB entails Query 3\")\n",
        "else:\n",
        "    print(\"The KB does not entail Query 3\")\n"
      ]
    }
  ]
}