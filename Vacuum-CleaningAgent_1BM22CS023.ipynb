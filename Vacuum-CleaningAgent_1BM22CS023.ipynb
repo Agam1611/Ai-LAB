{
  "nbformat": 4,
  "nbformat_minor": 0,
  "metadata": {
    "colab": {
      "provenance": []
    },
    "kernelspec": {
      "name": "python3",
      "display_name": "Python 3"
    },
    "language_info": {
      "name": "python"
    }
  },
  "cells": [
    {
      "cell_type": "code",
      "execution_count": 3,
      "metadata": {
        "colab": {
          "base_uri": "https://localhost:8080/"
        },
        "id": "ReN_PfW0QbJS",
        "outputId": "1d6dcbad-b1db-408b-c9be-8e7dc4e79b13"
      },
      "outputs": [
        {
          "output_type": "stream",
          "name": "stdout",
          "text": [
            "Vacuum cleaner problem \n",
            "Name : Agam Tiwari\n",
            "\n",
            "USN : 1BM22CS023\n",
            "\n",
            "\n",
            "Percept: Clean, Action: MoveRight\n",
            "Location: B, Status: Clean\n",
            "\n",
            "Percept: Clean, Action: MoveLeft\n",
            "Location: A, Status: Clean\n",
            "\n",
            "Percept: Clean, Action: MoveRight\n",
            "Location: B, Status: Clean\n",
            "\n",
            "Percept: Clean, Action: MoveLeft\n",
            "Location: A, Status: Clean\n",
            "\n",
            "Percept: Clean, Action: MoveRight\n",
            "Location: B, Status: Clean\n",
            "\n"
          ]
        }
      ],
      "source": [
        "print(\"Vacuum cleaner problem \\nName : Agam Tiwari\\n\")\n",
        "print(\"USN : 1BM22CS023\\n\\n\")\n",
        "\n",
        " # Agent function table\n",
        "agent_table = {\n",
        "    ('Clean', 'A'): 'MoveRight',\n",
        "    ('Clean', 'B'): 'MoveLeft',\n",
        "    ('Dirty', 'A'): 'Suck',\n",
        "    ('Dirty', 'B'): 'Suck',\n",
        "}\n",
        "\n",
        "# Vacuum cleaner class\n",
        "class VacuumCleaner:\n",
        "    def __init__(self, location='A', status='Clean'):\n",
        "        self.location = location\n",
        "        self.status = status\n",
        "\n",
        "    def percept(self):\n",
        "        return self.status\n",
        "\n",
        "    def act(self, action):\n",
        "        if action == 'MoveRight':\n",
        "            self.location = 'B'\n",
        "        elif action == 'MoveLeft':\n",
        "            self.location = 'A'\n",
        "        elif action == 'Suck':\n",
        "            self.status = 'Clean'\n",
        "\n",
        "# Table-driven agent function\n",
        "def table_driven_agent(percept):\n",
        "    return agent_table.get(percept, 'NoOp')\n",
        "\n",
        "# Main simulation loop\n",
        "if __name__ == \"__main__\":\n",
        "    vacuum = VacuumCleaner()\n",
        "\n",
        "    for _ in range(5):  # Run for 5 time steps\n",
        "        current_percept = vacuum.percept()\n",
        "        action = table_driven_agent((current_percept, vacuum.location))\n",
        "        print(f\"Percept: {current_percept}, Action: {action}\")\n",
        "\n",
        "        if action != 'NoOp':\n",
        "            vacuum.act(action)\n",
        "\n",
        "        print(f\"Location: {vacuum.location}, Status: {vacuum.status}\\n\")\n"
      ]
    }
  ]
}